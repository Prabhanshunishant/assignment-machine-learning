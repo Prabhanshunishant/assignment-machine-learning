{
  "nbformat": 4,
  "nbformat_minor": 0,
  "metadata": {
    "colab": {
      "provenance": []
    },
    "kernelspec": {
      "name": "python3",
      "display_name": "Python 3"
    },
    "language_info": {
      "name": "python"
    }
  },
  "cells": [
    {
      "cell_type": "code",
      "execution_count": null,
      "metadata": {
        "id": "_dzxh-No_u0u"
      },
      "outputs": [],
      "source": []
    },
    {
      "cell_type": "markdown",
      "source": [
        "Assignment Machine learning\n",
        "\n",
        "q1. Explain the differences between AI, ML, Deep Learning (DL), and Data\n",
        "Science (DS).\n",
        "\n",
        "ans-Artificial Intelligence (AI), Machine Learning (ML), Deep Learning (DL), and Data Science (DS) are related but distinct fields within the realm of data and intelligent systems.\n",
        "Artificial Intelligence (AI):\n",
        "AI is the broadest concept, aiming to create machines that can perform tasks requiring human-like intelligence. This includes reasoning, problem-solving, understanding language, recognizing patterns, and learning from experience. ML and DL are subsets and methods used to achieve AI.\n",
        "Machine Learning (ML):\n",
        "ML is a subset of AI that focuses on enabling systems to learn from data without explicit programming. ML algorithms identify patterns in data and use these patterns to make predictions or decisions. Examples include classification, regression, and clustering.\n",
        "Deep Learning (DL):\n",
        "DL is a specialized subfield of ML that uses artificial neural networks (ANNs) with multiple layers (deep networks) to model complex patterns in data. DL excels at tasks like image recognition, natural language processing, and speech recognition, often achieving state-of-the-art results due to its ability to learn intricate representations from large datasets.\n",
        "Data Science (DS):\n",
        "Data Science is an interdisciplinary field that involves extracting knowledge and insights from data. It encompasses various techniques, including data collection, cleaning, analysis, visualization, and interpretation. While Data Science often utilizes ML and DL techniques to build predictive models and extract insights, its scope is broader, encompassing the entire data lifecycle and focusing on deriving actionable intelligence from data for business or research purposes.\n",
        "\n",
        "q2- What are the types of machine learning? Describe each with one\n",
        "real-world example.\n",
        "\n",
        "ans-The three main types of machine learning are Supervised Learning, which uses labeled data for prediction; Unsupervised Learning, which finds patterns in unlabeled data; and Reinforcement Learning, which learns through trial and error to maximize rewards. Other important types include Semi-Supervised Learning (a mix of both supervised and unsupervised) and Self-Supervised Learning.\n",
        "Here's a description of each:\n",
        "1. Supervised Learning\n",
        "Description:\n",
        "This type of learning uses \"labeled\" data, meaning each input data point is paired with its correct output or \"label\". The model learns to map inputs to outputs to make predictions or classifications on new, unseen data.\n",
        "Real-World Example:\n",
        "Email Spam Detection. The model is trained on emails that are already marked as \"spam\" or \"not spam\". It learns to identify characteristics of spam emails and then classifies new emails accordingly.\n",
        "2. Unsupervised Learning\n",
        "Description:\n",
        "In contrast to supervised learning, this method uses \"unlabeled\" data to discover hidden patterns, structures, and relationships within the data without human intervention.\n",
        "Real-World Example:\n",
        "Customer Segmentation. Marketing companies use unsupervised learning to group customers with similar purchasing behaviors or demographics into different segments for targeted campaigns, without pre-defined labels for these groups.\n",
        "3. Reinforcement Learning\n",
        "Description:\n",
        "This learning process involves an \"agent\" that learns to make decisions by taking actions in an environment to achieve a goal. It receives rewards for successful actions and penalties for unsuccessful ones, with the objective of maximizing its cumulative reward over time.\n",
        "Real-World Example:\n",
        "Robotics and Autonomous Navigation. A robot learning to navigate a complex environment, such as grasping objects or avoiding obstacles, learns through trial and error, receiving rewards for reaching targets and penalties for collisions.\n",
        "Other Types of Machine Learning\n",
        "Semi-Supervised Learning:\n",
        "Combines a small amount of labeled data with a large amount of unlabeled data to improve model accuracy, making it a hybrid approach to supervised learning.\n",
        "Self-Supervised Learning:\n",
        "An advanced technique that uses the input data itself to create labels, such as predicting missing parts of an image or sequence, to facilitate the training process.\n",
        "\n",
        "q3- 3: Define overfitting, underfitting, and the bias-variance tradeoff in machine\n",
        "learning.\n",
        "\n",
        "ans-Underfitting occurs when a model is too simple to capture the underlying patterns in the data, resulting in high bias and poor performance on both training and new data. Overfitting happens when a model is too complex and learns the noise in the training data, leading to high variance and poor generalization on unseen data. The bias-variance tradeoff is the concept that you must balance a model's complexity to reduce its error; simplifying it increases bias but decreases variance, while making it more complex decreases bias but increases variance, aiming for a sweet spot to generalize well.\n",
        "\n",
        "Underfitting (High Bias)\n",
        "What it is:\n",
        "A model that is too simple to learn the complexities of the data.\n",
        "Characteristics:\n",
        "It fails to identify the real patterns and relationships, resulting in high error on both the training and testing datasets.\n",
        "Cause:\n",
        "An overly simplistic model or incorrect assumptions about the data's relationship.\n",
        "Example:\n",
        "Trying to fit a straight line to a dataset that clearly follows a curved pattern.\n",
        "Overfitting (High Variance)\n",
        "What it is:\n",
        "A model that learns the training data too well, including its noise and outliers, rather than the general patterns.\n",
        "Characteristics:\n",
        "The model performs exceptionally well on the training data but poorly on new, unseen data because it hasn't learned to generalize.\n",
        "Cause:\n",
        "An excessively complex model with too many parameters, allowing it to fit the specific details of the training set too closely.\n",
        "Example:\n",
        "A complex polynomial that hits every single data point, including random errors, rather than capturing the overall trend.\n",
        "Bias-Variance Tradeoff\n",
        "What it is:\n",
        "The fundamental relationship in machine learning where reducing one error source tends to increase the other.\n",
        "Bias:\n",
        "The error introduced by making simplifying assumptions when building a model. A model with high bias is overly simplistic.\n",
        "Variance:\n",
        "The error introduced by a model's sensitivity to specific training data. A model with high variance is overly complex and fits the training data too closely.\n",
        "The Goal:\n",
        "To find a model that is a compromise between high bias and high variance, achieving low error on both training and unseen data by carefully controlling model complexity.\n",
        "\n",
        "q4- What are outliers in a dataset, and list three common techniques for\n",
        "handling them.\n",
        "\n",
        "ans-Outliers in a dataset are data points that significantly deviate from other observations. They are values that are unusually high or low compared to the majority of the data points, potentially indicating errors, rare events, or anomalies.\n",
        "Three common techniques for handling outliers are:\n",
        "Removal/Trimming:\n",
        "This involves identifying and removing the outlier data points from the dataset. This method is straightforward but should be used cautiously as it can lead to a loss of valuable information, especially if the outliers represent genuine, albeit extreme, observations.\n",
        "Transformation/Winsorization:\n",
        "This technique involves modifying the values of the outliers rather than removing them entirely. Winsorization, a specific type of transformation, replaces outlier values with the nearest non-outlier value within a specified percentile range (e.g., replacing values above the 95th percentile with the value at the 95th percentile). This approach reduces the influence of outliers while retaining the data points in the dataset.\n",
        "Robust Estimation Techniques:\n",
        "Instead of directly manipulating the outliers, this approach uses statistical methods that are inherently less sensitive to extreme values. Examples include using robust regression models (like Huber regression or M-estimators) that minimize the impact of outliers on the model parameters, or employing non-parametric statistical tests that do not rely on assumptions about data distribution, which can be heavily influenced by outliers.\n",
        "\n",
        "q5-Explain the process of handling missing values and mention one\n",
        "imputation technique for numerical and one for categorical data.\n",
        "\n",
        "ans-Handling missing values is a crucial step in data preprocessing, aimed at addressing incomplete data within a dataset. The process involves identifying missing values, understanding their patterns, and then employing strategies to either remove or replace them.\n",
        "Process of Handling Missing Values:\n",
        "Identification:\n",
        "Determine the presence and extent of missing values in each feature (column) of the dataset. This can involve checking for NaN (Not a Number) or other placeholder values.\n",
        "Analysis of Missingness:\n",
        "Understand the type of missingness (e.g., Missing Completely At Random (MCAR), Missing At Random (MAR), Missing Not At Random (MNAR)) to inform the choice of handling strategy.\n",
        "Strategy Selection:\n",
        "Decide whether to delete records/features with missing values or to impute them. Deletion is suitable when missing values are few and randomly distributed, or when a feature has a very high proportion of missing values. Imputation is preferred when preserving data is important.\n",
        "Imputation (if chosen):\n",
        "Apply an appropriate imputation technique based on the data type (numerical or categorical) and the nature of missingness.\n",
        "Validation:\n",
        "After handling missing values, validate the dataset to ensure the chosen method has not introduced bias or significantly altered the data distribution.\n",
        "Imputation Techniques:\n",
        "Numerical Data Imputation:\n",
        "Mean Imputation: Missing numerical values are replaced with the mean of the observed values in that specific feature. This is a simple and quick method but can reduce variance and distort relationships if the missingness is not random."
      ],
      "metadata": {
        "id": "LbRGuBvkCICe"
      }
    },
    {
      "cell_type": "code",
      "source": [
        "    import pandas as pd\n",
        "    import numpy as np\n",
        "\n",
        "    data = {'A': [1, 2, np.nan, 4, 5], 'B': [6, 7, 8, np.nan, 10]}\n",
        "    df = pd.DataFrame(data)\n",
        "\n",
        "    # Impute missing values in column 'A' with its mean\n",
        "    df['A'].fillna(df['A'].mean(), inplace=True)\n",
        "    print(df)"
      ],
      "metadata": {
        "colab": {
          "base_uri": "https://localhost:8080/"
        },
        "id": "VNJ9NXLyDVbR",
        "outputId": "0f9fd7a9-4a5d-48bb-d57f-1e5091c471ee"
      },
      "execution_count": 2,
      "outputs": [
        {
          "output_type": "stream",
          "name": "stdout",
          "text": [
            "     A     B\n",
            "0  1.0   6.0\n",
            "1  2.0   7.0\n",
            "2  3.0   8.0\n",
            "3  4.0   NaN\n",
            "4  5.0  10.0\n"
          ]
        },
        {
          "output_type": "stream",
          "name": "stderr",
          "text": [
            "/tmp/ipython-input-2210167817.py:8: FutureWarning: A value is trying to be set on a copy of a DataFrame or Series through chained assignment using an inplace method.\n",
            "The behavior will change in pandas 3.0. This inplace method will never work because the intermediate object on which we are setting values always behaves as a copy.\n",
            "\n",
            "For example, when doing 'df[col].method(value, inplace=True)', try using 'df.method({col: value}, inplace=True)' or df[col] = df[col].method(value) instead, to perform the operation inplace on the original object.\n",
            "\n",
            "\n",
            "  df['A'].fillna(df['A'].mean(), inplace=True)\n"
          ]
        }
      ]
    },
    {
      "cell_type": "markdown",
      "source": [],
      "metadata": {
        "id": "RsjV_xpqCF-F"
      }
    },
    {
      "cell_type": "markdown",
      "source": [
        "Categorical Data Imputation:\n",
        "Mode Imputation: Missing categorical values are replaced with the mode (most frequent category) of the observed values in that feature. This is a common and straightforward method for categorical data."
      ],
      "metadata": {
        "id": "JRWyzZaNDidS"
      }
    },
    {
      "cell_type": "code",
      "source": [
        "    import pandas as pd\n",
        "    import numpy as np\n",
        "\n",
        "    data = {'Category': ['A', 'B', np.nan, 'A', 'C'], 'Value': [10, 20, 30, 40, 50]}\n",
        "    df = pd.DataFrame(data)\n",
        "\n",
        "    # Impute missing values in 'Category' with its mode\n",
        "    df['Category'].fillna(df['Category'].mode()[0], inplace=True)\n",
        "    print(df)"
      ],
      "metadata": {
        "colab": {
          "base_uri": "https://localhost:8080/"
        },
        "id": "jl_-QWvHDlNK",
        "outputId": "9a347f8b-2409-4005-946b-3c7db69b86b5"
      },
      "execution_count": 3,
      "outputs": [
        {
          "output_type": "stream",
          "name": "stdout",
          "text": [
            "  Category  Value\n",
            "0        A     10\n",
            "1        B     20\n",
            "2        A     30\n",
            "3        A     40\n",
            "4        C     50\n"
          ]
        },
        {
          "output_type": "stream",
          "name": "stderr",
          "text": [
            "/tmp/ipython-input-2428588735.py:8: FutureWarning: A value is trying to be set on a copy of a DataFrame or Series through chained assignment using an inplace method.\n",
            "The behavior will change in pandas 3.0. This inplace method will never work because the intermediate object on which we are setting values always behaves as a copy.\n",
            "\n",
            "For example, when doing 'df[col].method(value, inplace=True)', try using 'df.method({col: value}, inplace=True)' or df[col] = df[col].method(value) instead, to perform the operation inplace on the original object.\n",
            "\n",
            "\n",
            "  df['Category'].fillna(df['Category'].mode()[0], inplace=True)\n"
          ]
        }
      ]
    },
    {
      "cell_type": "markdown",
      "source": [
        "q6-Write a Python program that:\n",
        "● Creates a synthetic imbalanced dataset with make_classification() from\n",
        "sklearn.datasets.\n",
        "● Prints the class distribution."
      ],
      "metadata": {
        "id": "3S_FzPKiDtQG"
      }
    },
    {
      "cell_type": "code",
      "source": [
        "#ans-\n",
        "\n",
        "import numpy as np\n",
        "from sklearn.datasets import make_classification\n",
        "\n",
        "# Create a synthetic imbalanced dataset\n",
        "# n_samples: total number of samples\n",
        "# n_features: total number of features\n",
        "# n_informative: number of informative features\n",
        "# n_redundant: number of redundant features\n",
        "# n_classes: number of classes\n",
        "# weights: proportion of samples assigned to each class (creates imbalance)\n",
        "# random_state: for reproducibility\n",
        "X, y = make_classification(n_samples=1000,\n",
        "                           n_features=2,\n",
        "                           n_informative=2,\n",
        "                           n_redundant=0,\n",
        "                           n_classes=2,\n",
        "                           weights=[0.9, 0.1],  # 90% class 0, 10% class 1\n",
        "                           random_state=42)\n",
        "\n",
        "# Print the class distribution\n",
        "unique_classes, counts = np.unique(y, return_counts=True)\n",
        "class_distribution = dict(zip(unique_classes, counts))\n",
        "\n",
        "print(\"Class distribution of the synthetic dataset:\")\n",
        "for class_label, count in class_distribution.items():\n",
        "    print(f\"Class {class_label}: {count} samples\")"
      ],
      "metadata": {
        "colab": {
          "base_uri": "https://localhost:8080/"
        },
        "id": "yNBJypTuD2UW",
        "outputId": "d4baf47c-276a-4370-8952-361f8a9cf92f"
      },
      "execution_count": 4,
      "outputs": [
        {
          "output_type": "stream",
          "name": "stdout",
          "text": [
            "Class distribution of the synthetic dataset:\n",
            "Class 0: 894 samples\n",
            "Class 1: 106 samples\n"
          ]
        }
      ]
    },
    {
      "cell_type": "code",
      "source": [
        "#q7-Implement one-hot encoding using pandas for the following list of colors:\n",
        "['Red', 'Green', 'Blue', 'Green', 'Red']. Print the resulting dataframe.\n"
      ],
      "metadata": {
        "id": "9u509hfKEAbW"
      },
      "execution_count": null,
      "outputs": []
    },
    {
      "cell_type": "code",
      "source": [
        "#ans-\n",
        "import pandas as pd\n",
        "\n",
        "# Create a Series from the list of colors\n",
        "colors = ['Red', 'Green', 'Blue', 'Green', 'Red']\n",
        "color_series = pd.Series(colors, name='Color')\n",
        "\n",
        "# Apply one-hot encoding\n",
        "one_hot_encoded_df = pd.get_dummies(color_series, prefix='Color')\n",
        "\n",
        "# Print the resulting DataFrame\n",
        "print(one_hot_encoded_df)"
      ],
      "metadata": {
        "colab": {
          "base_uri": "https://localhost:8080/"
        },
        "id": "fu2mkigKEKnh",
        "outputId": "3bc4be7d-87d9-46fb-e86c-e073e13af922"
      },
      "execution_count": 5,
      "outputs": [
        {
          "output_type": "stream",
          "name": "stdout",
          "text": [
            "   Color_Blue  Color_Green  Color_Red\n",
            "0       False        False       True\n",
            "1       False         True      False\n",
            "2        True        False      False\n",
            "3       False         True      False\n",
            "4       False        False       True\n"
          ]
        }
      ]
    },
    {
      "cell_type": "markdown",
      "source": [
        "q8-Write a Python script to:\n",
        "● Generate 1000 samples from a normal distribution.\n",
        "● Introduce 50 random missing values.\n",
        "● Fill missing values with the column mean.\n",
        "● Plot a histogram before and after imputation."
      ],
      "metadata": {
        "id": "vFGr1QbsER5y"
      }
    },
    {
      "cell_type": "code",
      "source": [
        "#ans-\n",
        "#The following Python script generates 1000 samples from a normal distribution, introduces 50 random missing values, fills these missing values with the column mean, and then plots a histogram of the data before and after imputation for visual comparison.\n",
        "\n",
        "import numpy as np\n",
        "import pandas as pd\n",
        "import matplotlib.pyplot as plt\n",
        "\n",
        "# 1. Generate 1000 samples from a normal distribution\n",
        "np.random.seed(42)  # for reproducibility\n",
        "data = np.random.normal(loc=0, scale=1, size=1000)\n",
        "df = pd.DataFrame(data, columns=['Value'])\n",
        "\n",
        "# 2. Introduce 50 random missing values\n",
        "missing_indices = np.random.choice(df.index, size=50, replace=False)\n",
        "df.loc[missing_indices, 'Value'] = np.nan\n",
        "\n",
        "# Create a copy for plotting before imputation\n",
        "df_before_imputation = df.copy()\n",
        "\n",
        "# 3. Fill missing values with the column mean\n",
        "mean_value = df['Value'].mean()\n",
        "df['Value'].fillna(mean_value, inplace=True)\n",
        "\n",
        "# 4. Plot a histogram before and after imputation\n",
        "plt.figure(figsize=(12, 5))\n",
        "\n",
        "# Histogram before imputation\n",
        "plt.subplot(1, 2, 1)\n",
        "plt.hist(df_before_imputation['Value'].dropna(), bins=30, edgecolor='black')\n",
        "plt.title('Histogram Before Imputation (Missing Values Removed for Plotting)')\n",
        "plt.xlabel('Value')\n",
        "plt.ylabel('Frequency')\n",
        "\n",
        "# Histogram after imputation\n",
        "plt.subplot(1, 2, 2)\n",
        "plt.hist(df['Value'], bins=30, edgecolor='black')\n",
        "plt.title('Histogram After Imputation (Mean Imputation)')\n",
        "plt.xlabel('Value')\n",
        "plt.ylabel('Frequency')\n",
        "\n",
        "plt.tight_layout()\n",
        "plt.show()"
      ],
      "metadata": {
        "colab": {
          "base_uri": "https://localhost:8080/",
          "height": 489
        },
        "id": "lOkT0DrBEcmK",
        "outputId": "624559a3-5bbd-40df-b727-24ccbbcb8080"
      },
      "execution_count": 6,
      "outputs": [
        {
          "output_type": "stream",
          "name": "stderr",
          "text": [
            "/tmp/ipython-input-3891085975.py:22: FutureWarning: A value is trying to be set on a copy of a DataFrame or Series through chained assignment using an inplace method.\n",
            "The behavior will change in pandas 3.0. This inplace method will never work because the intermediate object on which we are setting values always behaves as a copy.\n",
            "\n",
            "For example, when doing 'df[col].method(value, inplace=True)', try using 'df.method({col: value}, inplace=True)' or df[col] = df[col].method(value) instead, to perform the operation inplace on the original object.\n",
            "\n",
            "\n",
            "  df['Value'].fillna(mean_value, inplace=True)\n"
          ]
        },
        {
          "output_type": "display_data",
          "data": {
            "text/plain": [
              "<Figure size 1200x500 with 2 Axes>"
            ],
            "image/png": "[encoded data removed]"
          },
          "metadata": {}
        }
      ]
    },
    {
      "cell_type": "code",
      "source": [
        "q9- Implement Min-Max scaling on the following list of numbers [2, 5, 10, 15,\n",
        "20] using sklearn.preprocessing.MinMaxScaler. Print the scaled array.\n"
      ],
      "metadata": {
        "id": "twPWOMi6EXma"
      },
      "execution_count": null,
      "outputs": []
    },
    {
      "cell_type": "code",
      "source": [
        "#ans-\n",
        "\n",
        "#To implement Min-Max scaling on the given list of numbers using sklearn.preprocessing.MinMaxScaler, the following steps are required:\n",
        "Import MinMaxScaler: Import the necessary class from sklearn.preprocessing.\n",
        "Define the data: Create a NumPy array from the list of numbers. It is important to reshape this array to (-1, 1) as MinMaxScaler expects a 2D array (samples, features).\n",
        "Initialize the scaler: Create an instance of MinMaxScaler.\n",
        "Fit and transform the data: Use the fit_transform method to both fit the scaler to the data (calculating min and max) and then transform the data based on these values.\n",
        "Print the scaled array: Display the resulting scaled data.\n",
        "\n"
      ],
      "metadata": {
        "colab": {
          "base_uri": "https://localhost:8080/",
          "height": 145
        },
        "id": "eFWFwqrDEtn-",
        "outputId": "8c418324-c539-48c8-9c5c-e45407808d0a"
      },
      "execution_count": 7,
      "outputs": [
        {
          "output_type": "error",
          "ename": "SyntaxError",
          "evalue": "invalid decimal literal (ipython-input-1054038112.py, line 5)",
          "traceback": [
            "\u001b[0;36m  File \u001b[0;32m\"/tmp/ipython-input-1054038112.py\"\u001b[0;36m, line \u001b[0;32m5\u001b[0m\n\u001b[0;31m    Define the data: Create a NumPy array from the list of numbers. It is important to reshape this array to (-1, 1) as MinMaxScaler expects a 2D array (samples, features).\u001b[0m\n\u001b[0m                                                                                                                                               ^\u001b[0m\n\u001b[0;31mSyntaxError\u001b[0m\u001b[0;31m:\u001b[0m invalid decimal literal\n"
          ]
        }
      ]
    },
    {
      "cell_type": "code",
      "source": [
        "import numpy as np\n",
        "from sklearn.preprocessing import MinMaxScaler\n",
        "\n",
        "# Define the list of numbers\n",
        "data = np.array([2, 5, 10, 15, 20])\n",
        "\n",
        "# Reshape the data to a 2D array as required by MinMaxScaler\n",
        "data_reshaped = data.reshape(-1, 1)\n",
        "\n",
        "# Initialize the MinMaxScaler\n",
        "scaler = MinMaxScaler()\n",
        "\n",
        "# Fit and transform the data\n",
        "scaled_data = scaler.fit_transform(data_reshaped)\n",
        "\n",
        "# Print the scaled array\n",
        "print(\"Scaled array:\", scaled_data)"
      ],
      "metadata": {
        "colab": {
          "base_uri": "https://localhost:8080/"
        },
        "id": "iy--5ubDE-1e",
        "outputId": "a89ceea0-1542-49ad-d29c-8eb26fd4e435"
      },
      "execution_count": 8,
      "outputs": [
        {
          "output_type": "stream",
          "name": "stdout",
          "text": [
            "Scaled array: [[0.        ]\n",
            " [0.16666667]\n",
            " [0.44444444]\n",
            " [0.72222222]\n",
            " [1.        ]]\n"
          ]
        }
      ]
    },
    {
      "cell_type": "markdown",
      "source": [
        "q10-You are working as a data scientist for a retail company. You receive a customer\n",
        "transaction dataset that contains:\n",
        "● Missing ages,\n",
        "● Outliers in transaction amount,\n",
        "● A highly imbalanced target (fraud vs. non-fraud),\n",
        "● Categorical variables like payment method."
      ],
      "metadata": {
        "id": "IeEFwpKTFC2G"
      }
    },
    {
      "cell_type": "code",
      "source": [
        "#ans-\n",
        "\n",
        "Here’s a practical, end-to-end data-prep plan I’d follow for a retail fraud-detection dataset with missing values, amount outliers, a highly imbalanced target, and categorical features (e.g., payment method). It’s written to be model-agnostic and leakage-safe.\n",
        "\n",
        "0) Frame the problem (before touching the data)\n",
        "\n",
        "Goal & metric: Fraud is rare → optimize PR-AUC (and track ROC-AUC). Plan to tune the decision threshold for business targets (e.g., recall ≥ X% at ≤ Y% FPR, or expected cost).\n",
        "\n",
        "Time awareness: Transactions are time-stamped → use chronological splits (train on older, validate/test on newer) to avoid look-ahead leakage.\n",
        "\n",
        "Grouping: If the same customer/device/card appears in both train and test, leakage can occur. Prefer grouped, time-aware CV (e.g., TimeSeriesSplit with group integrity).\n",
        "\n",
        "\n",
        "1) Data audit & hygiene\n",
        "\n",
        "Schema & types: Parse timestamps, normalize timezones/currencies; cast amounts to numeric; coerce booleans; standardize category labels.\n",
        "\n",
        "Keys & duplicates: Define a transaction key (e.g., txn_id); drop or resolve perfect duplicates; keep near-duplicates but flag them.\n",
        "\n",
        "Sanity checks: Negative or zero amounts, impossible ages, impossible geodistances, invalid card PAN lengths → fix/flag.\n",
        "\n",
        "Leakage sweep: Remove post-event fields (e.g., chargeback outcome codes, manual review verdict) and any aggregates computed using future data.\n",
        "\n",
        "\n",
        "2) Train/validation/test split (done once)\n",
        "\n",
        "Chronological split (e.g., Train: Jan–May, Val: June, Test: July).\n",
        "\n",
        "Stratify within each split if feasible (maintain minority rate), but do not break temporal order.\n",
        "\n",
        "Keep entities disjoint across splits where possible (e.g., customers/devices).\n",
        "\n",
        "\n",
        "3) Missing data\n",
        "\n",
        "Treat missingness as signal and impute safely.\n",
        "\n",
        "3.1 Diagnose\n",
        "\n",
        "Compute missingness by column, by class (fraud vs non-fraud), and over time.\n",
        "\n",
        "Determine mechanism: MCAR/MAR/MNAR; if MNAR is plausible, keep missingness indicators.\n",
        "\n",
        "\n",
        "3.2 Strategy\n",
        "\n",
        "Numeric:\n",
        "\n",
        "Add <col>_is_missing indicator.\n",
        "\n",
        "Impute with median (robust) computed on the training fold only, optionally within a segment (e.g., per payment method or country).\n",
        "\n",
        "For time-series style per-entity fields, consider forward/backward fill per entity, but never across entities.\n",
        "\n",
        "\n",
        "Categorical:\n",
        "\n",
        "Map missing to a distinct \"__Unknown__\" category (keeps the signal).\n",
        "\n",
        "\n",
        "“Missing edges”:\n",
        "\n",
        "If this means missing values, treat as above.\n",
        "\n",
        "If it literally means missing graph links (e.g., customer–merchant edges), create placeholders and add edge-missing indicators; avoid inferring edges from future data.\n",
        "\n",
        "\n",
        "\n",
        "4) Outliers in transaction amount (and related)\n",
        "\n",
        "Outliers may be the fraud—don’t blunt them away.\n",
        "\n",
        "Explore: Plot amount distribution (log-scale), by class and by merchant/customer segments.\n",
        "\n",
        "Transform: Use log1p(amount) feature; keep the raw amount too.\n",
        "\n",
        "Robust scaling: For linear models, use RobustScaler on numeric features; tree models usually don’t need scaling.\n",
        "\n",
        "Capping (winsorization): If needed (to stabilize linear models), cap per segment (e.g., 0.5th/99.5th percentiles computed on train) and keep a flag like amount_capped.\n",
        "\n",
        "Outlier features: Z-scores per customer/merchant/device, amount / customer_median, percentile rank within merchant, and an is_extreme_amount boolean.\n",
        "\n",
        "\n",
        "5) Categorical encoding (incl. high cardinality)\n",
        "\n",
        "Low-cardinality (e.g., payment_method): One-hot (drop first to avoid collinearity for linear models).\n",
        "\n",
        "High-cardinality (merchant_id, device_id, email_domain):\n",
        "\n",
        "Frequency/count encoding (stable, leakage-safe).\n",
        "\n",
        "Target/mean encoding with nested CV (or out-of-fold encoding) + smoothing to prevent leakage and overfitting.\n",
        "\n",
        "Hashing trick for extremely large cardinalities (keeps memory bounded).\n",
        "\n",
        "\n",
        "Rare categories: Bucket infrequent levels into \"__Other__\" using a train-only frequency threshold.\n",
        "\n",
        "Interactions: Consider crossed features (payment_method × channel, country × currency) if you use trees or regularized linear models.\n",
        "\n",
        "\n",
        "6) Class imbalance (fraud ≪ non-fraud)\n",
        "\n",
        "Always split first; then apply any resampling within each training fold.\n",
        "\n",
        "Model-side weighting: Set class weights (e.g., class_weight='balanced' for logistic/linear; scale_pos_weight for XGBoost/LightGBM).\n",
        "\n",
        "Resampling (trained folds only):\n",
        "\n",
        "Undersample majority (fast baseline).\n",
        "\n",
        "SMOTE/SMOTE-NC for mixed types; often undersample → SMOTE works well. Avoid leaking neighbors from val/test.\n",
        "\n",
        "Tomek links/ENN to clean overlapping regions.\n",
        "\n",
        "\n",
        "Thresholding: After training, tune the threshold on the validation set for your operating point (maximize Fβ, fix recall, or minimize cost).\n",
        "\n",
        "Calibration: If decisions are cost-based, calibrate probabilities (Platt/Isotonic) on a clean validation set.\n",
        "\n",
        "\n",
        "7) Feature building (high-value for fraud)\n",
        "\n",
        "Time features: hour of day, day of week, weekend/holiday, time since previous transaction (by card/customer/device), velocity counts like #txns last 5/30/1440 minutes.\n",
        "\n",
        "Entity risk scores (train-only): rolling fraud rate per merchant/email/bin/country using past-only windows (e.g., 28-day look-back), with smoothing and purging near the boundary to avoid look-ahead.\n",
        "\n",
        "Geo/device: distance billing↔shipping, IP↔billing country mismatch, device fingerprint stability.\n",
        "\n",
        "Amount patterns: deviation from customer/merchant typical spend, standardized per entity.\n",
        "\n",
        "\n",
        "8) Assemble a leakage-safe pipeline\n",
        "\n",
        "Use a single pipeline so all prep is fit on train only and applied consistently.\n",
        "\n",
        "Sketch (scikit-learn style):\n",
        "\n",
        "from sklearn.compose import ColumnTransformer\n",
        "from sklearn.pipeline import Pipeline\n",
        "from sklearn.impute import SimpleImputer\n",
        "from sklearn.preprocessing import OneHotEncoder, FunctionTransformer, RobustScaler\n",
        "from sklearn.utils.class_weight import compute_class_weight\n",
        "from imblearn.over_sampling import SMOTENC\n",
        "from imblearn.under_sampling import RandomUnderSampler\n",
        "from imblearn.pipeline import Pipeline as ImbPipeline\n",
        "from xgboost import XGBClassifier\n",
        "\n",
        "num_cols = [...]\n",
        "low_card_cat = ['payment_method', 'channel', ...]\n",
        "high_card_cat = ['merchant_id', 'device_id', 'email_domain', ...]\n",
        "\n",
        "num_pipeline = Pipeline([\n",
        "    ('impute', SimpleImputer(strategy='median')),\n",
        "    ('log_amount', FunctionTransformer(lambda X: X.assign(\n",
        "        amount_log = np.log1p(X['amount'])\n",
        "    ), validate=False)),\n",
        "    ('scale', RobustScaler(with_centering=False))\n",
        "])\n",
        "\n",
        "low_card_pipeline = Pipeline([\n",
        "    ('impute', SimpleImputer(strategy='most_frequent')),\n",
        "    ('onehot', OneHotEncoder(handle_unknown='ignore', sparse_output=True))\n",
        "])\n",
        "\n",
        "# Example: frequency encoding as a custom transformer for high-card columns\n",
        "high_card_pipeline = Pipeline([\n",
        "    ('impute', SimpleImputer(strategy='most_frequent')),\n",
        "    ('freq_encode', FrequencyEncoder())  # implement with fit on train folds only\n",
        "])\n",
        "\n",
        "preproc = ColumnTransformer([\n",
        "    ('num', num_pipeline, num_cols),\n",
        "    ('lowcat', low_card_pipeline, low_card_cat),\n",
        "    ('highcat', high_card_pipeline, high_card_cat),\n",
        "])\n",
        "\n",
        "model = XGBClassifier(\n",
        "    n_estimators=600, max_depth=6,\n",
        "    learning_rate=0.05, subsample=0.8, colsample_bytree=0.8,\n",
        "    eval_metric='aucpr', tree_method='hist', scale_pos_weight=... # set via class imbalance\n",
        ")\n",
        "\n",
        "pipeline = ImbPipeline(steps=[\n",
        "    ('preproc', preproc),\n",
        "    # Optionally: ('under', RandomUnderSampler(0.5)),\n",
        "    # Optionally: ('smote', SMOTENC(categorical_features=..., sampling_strategy=0.2)),\n",
        "    ('clf', model)\n",
        "])\n",
        "\n",
        "Notes\n",
        "\n",
        "Any target/mean encoding should be implemented as out-of-fold inside CV (nested or using category_encoders with CV).\n",
        "\n",
        "If you use trees, you can skip scaling; keep logs/caps as engineered features.\n",
        "\n",
        "\n",
        "9) Cross-validation, evaluation, thresholding\n",
        "\n",
        "Use time-series CV (e.g., rolling windows). In each fold:\n",
        "\n",
        "Fit imputers/encoders on the training slice only.\n",
        "\n",
        "Apply resampling only on the training slice.\n",
        "\n",
        "Tune hyperparameters by PR-AUC.\n",
        "\n",
        "\n",
        "After selecting a model, fit on Train+Val, then:\n",
        "\n",
        "Calibrate probabilities on Val (or a dedicated calibration split).\n",
        "\n",
        "Pick the operating threshold to meet business constraints.\n",
        "\n",
        "Lock the pipeline and evaluate once on the untouched Test (chronologically latest).\n",
        "\n",
        "\n",
        "\n",
        "10) Final checks & deployment readiness\n",
        "\n",
        "Drift and stability: Compare feature/score distributions between Train and Test; add population stability index and data-drift alerts in production.\n",
        "\n",
        "Robustness: Backtest on multiple time windows; stress-test under varying fraud rates.\n",
        "\n",
        "Explainability: Keep feature importances/SHAP for operations review.\n",
        "\n",
        "Monitoring: Track PR-AUC, recall@FPR, approval rate, false-positive cost, and model calibration over time.\n",
        "\n",
        "\n",
        "\n",
        "---\n",
        "\n",
        "Quick “cheat sheet” decisions for your dataset\n",
        "\n",
        "Missing data: indicators + median (numeric) / \"__Unknown__\" (categorical); segment-wise if helpful; fit on train only.\n",
        "\n",
        "Outliers (amount): add log1p(amount), optional percentile capping (train-only) + amount_capped flag; create per-entity deviation features.\n",
        "\n",
        "Imbalance: class weights first; if needed, undersample + SMOTE/SMOTE-NC within CV folds; tune the threshold, optimize PR-AUC.\n",
        "\n",
        "Encoding: one-hot for low-card categories (payment method), frequency or target encoding (nested CV) / hashing for high-card IDs.\n",
        "\n",
        "\n",
        "If you’d like, I can turn this into a runnable scikit-learn template with placeholders for your column names."
      ],
      "metadata": {
        "colab": {
          "base_uri": "https://localhost:8080/",
          "height": 145
        },
        "id": "f5LSXu5HFEiJ",
        "outputId": "42e412d3-b241-4983-e8d4-07a171fb158e"
      },
      "execution_count": 9,
      "outputs": [
        {
          "output_type": "error",
          "ename": "SyntaxError",
          "evalue": "invalid character '’' (U+2019) (ipython-input-3614621423.py, line 3)",
          "traceback": [
            "\u001b[0;36m  File \u001b[0;32m\"/tmp/ipython-input-3614621423.py\"\u001b[0;36m, line \u001b[0;32m3\u001b[0m\n\u001b[0;31m    Here’s a practical, end-to-end data-prep plan I’d follow for a retail fraud-detection dataset with missing values, amount outliers, a highly imbalanced target, and categorical features (e.g., payment method). It’s written to be model-agnostic and leakage-safe.\u001b[0m\n\u001b[0m        ^\u001b[0m\n\u001b[0;31mSyntaxError\u001b[0m\u001b[0;31m:\u001b[0m invalid character '’' (U+2019)\n"
          ]
        }
      ]
    },
    {
      "cell_type": "code",
      "source": [],
      "metadata": {
        "colab": {
          "base_uri": "https://localhost:8080/",
          "height": 217
        },
        "id": "987iMumFG0cT",
        "outputId": "2804d082-0b60-4b64-ddff-51fbad9b7972"
      },
      "execution_count": 11,
      "outputs": [
        {
          "output_type": "error",
          "ename": "NameError",
          "evalue": "name 'FrequencyEncoder' is not defined",
          "traceback": [
            "\u001b[0;31m---------------------------------------------------------------------------\u001b[0m",
            "\u001b[0;31mNameError\u001b[0m                                 Traceback (most recent call last)",
            "\u001b[0;32m/tmp/ipython-input-3609995785.py\u001b[0m in \u001b[0;36m<cell line: 0>\u001b[0;34m()\u001b[0m\n\u001b[1;32m     29\u001b[0m high_card_pipeline = Pipeline([\n\u001b[1;32m     30\u001b[0m     \u001b[0;34m(\u001b[0m\u001b[0;34m'impute'\u001b[0m\u001b[0;34m,\u001b[0m \u001b[0mSimpleImputer\u001b[0m\u001b[0;34m(\u001b[0m\u001b[0mstrategy\u001b[0m\u001b[0;34m=\u001b[0m\u001b[0;34m'most_frequent'\u001b[0m\u001b[0;34m)\u001b[0m\u001b[0;34m)\u001b[0m\u001b[0;34m,\u001b[0m\u001b[0;34m\u001b[0m\u001b[0;34m\u001b[0m\u001b[0m\n\u001b[0;32m---> 31\u001b[0;31m     \u001b[0;34m(\u001b[0m\u001b[0;34m'freq_encode'\u001b[0m\u001b[0;34m,\u001b[0m \u001b[0mFrequencyEncoder\u001b[0m\u001b[0;34m(\u001b[0m\u001b[0;34m)\u001b[0m\u001b[0;34m)\u001b[0m  \u001b[0;31m# implement with fit on train folds only\u001b[0m\u001b[0;34m\u001b[0m\u001b[0;34m\u001b[0m\u001b[0m\n\u001b[0m\u001b[1;32m     32\u001b[0m ])\n\u001b[1;32m     33\u001b[0m \u001b[0;34m\u001b[0m\u001b[0m\n",
            "\u001b[0;31mNameError\u001b[0m: name 'FrequencyEncoder' is not defined"
          ]
        }
      ]
    }
  ]
}